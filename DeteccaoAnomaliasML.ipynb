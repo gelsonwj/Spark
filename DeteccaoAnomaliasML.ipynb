{
 "cells": [
  {
   "cell_type": "markdown",
   "id": "ba5de4b7-d116-493d-8ee2-6f307924b798",
   "metadata": {},
   "source": [
    "# Detecção de Anomalias e Machine Learning"
   ]
  },
  {
   "cell_type": "code",
   "execution_count": 2,
   "id": "80e878ef-110f-4dc8-bd3a-d3c689ec47dd",
   "metadata": {},
   "outputs": [],
   "source": [
    "import findspark\n",
    "findspark.init()"
   ]
  },
  {
   "cell_type": "code",
   "execution_count": 3,
   "id": "75e6b40d-a56a-4c0d-997b-bb611326a9ec",
   "metadata": {},
   "outputs": [],
   "source": [
    "from pyspark.sql import SparkSession\n",
    "spark = SparkSession.builder.appName(\"deteccaoAnomaliass\").getOrCreate()"
   ]
  },
  {
   "cell_type": "code",
   "execution_count": 4,
   "id": "ebac0ee0-ad46-4377-9676-a4c82ccf8c6d",
   "metadata": {},
   "outputs": [],
   "source": [
    "cities_df = spark.read.format('csv').options(header = 'true', inferschema = 'true').load('D:/Downloads/csv/worldcities.csv')"
   ]
  },
  {
   "cell_type": "code",
   "execution_count": 8,
   "id": "93e9d819-f375-4b63-903b-2a53bdc56d04",
   "metadata": {},
   "outputs": [
    {
     "name": "stdout",
     "output_type": "stream",
     "text": [
      "root\n",
      " |-- city: string (nullable = true)\n",
      " |-- city_ascii: string (nullable = true)\n",
      " |-- lat: double (nullable = true)\n",
      " |-- lng: double (nullable = true)\n",
      " |-- country: string (nullable = true)\n",
      " |-- iso2: string (nullable = true)\n",
      " |-- iso3: string (nullable = true)\n",
      " |-- admin_name: string (nullable = true)\n",
      " |-- capital: string (nullable = true)\n",
      " |-- population: double (nullable = true)\n",
      " |-- id: integer (nullable = true)\n",
      "\n"
     ]
    }
   ],
   "source": [
    "cities_df.printSchema()"
   ]
  },
  {
   "cell_type": "code",
   "execution_count": 9,
   "id": "27776d67-7a71-4588-b9cc-bc0ea8238265",
   "metadata": {},
   "outputs": [
    {
     "name": "stdout",
     "output_type": "stream",
     "text": [
      "+--------------+--------------+--------+---------+-------------+----+----+--------------------+-------+-----------+----------+\n",
      "|          city|    city_ascii|     lat|      lng|      country|iso2|iso3|          admin_name|capital| population|        id|\n",
      "+--------------+--------------+--------+---------+-------------+----+----+--------------------+-------+-----------+----------+\n",
      "|         Tokyo|         Tokyo|  35.685| 139.7514|        Japan|  JP| JPN|               Tōkyō|primary|   3.5676E7|1392685764|\n",
      "|      New York|      New York| 40.6943| -73.9249|United States|  US| USA|            New York|   null|1.9354922E7|1840034016|\n",
      "|   Mexico City|   Mexico City| 19.4424|  -99.131|       Mexico|  MX| MEX|    Ciudad de México|primary|   1.9028E7|1484247881|\n",
      "|        Mumbai|        Mumbai|  19.017|   72.857|        India|  IN| IND|         Mahārāshtra|  admin|   1.8978E7|1356226629|\n",
      "|     São Paulo|     Sao Paulo|-23.5587|  -46.625|       Brazil|  BR| BRA|           São Paulo|  admin|   1.8845E7|1076532519|\n",
      "|         Delhi|         Delhi|   28.67|    77.23|        India|  IN| IND|               Delhi|  admin|   1.5926E7|1356872604|\n",
      "|      Shanghai|      Shanghai| 31.2165| 121.4365|        China|  CN| CHN|            Shanghai|  admin|   1.4987E7|1156073548|\n",
      "|       Kolkata|       Kolkata|  22.495|  88.3247|        India|  IN| IND|         West Bengal|  admin|   1.4787E7|1356060520|\n",
      "|   Los Angeles|   Los Angeles| 34.1139|-118.4068|United States|  US| USA|          California|   null|1.2815475E7|1840020491|\n",
      "|         Dhaka|         Dhaka| 23.7231|  90.4086|   Bangladesh|  BD| BGD|               Dhaka|primary|1.2797394E7|1050529279|\n",
      "|  Buenos Aires|  Buenos Aires|-34.6025| -58.3975|    Argentina|  AR| ARG|Buenos Aires, Ciu...|primary|   1.2795E7|1032717330|\n",
      "|       Karachi|       Karachi|   24.87|    66.99|     Pakistan|  PK| PAK|               Sindh|  admin|    1.213E7|1586129469|\n",
      "|         Cairo|         Cairo|   30.05|    31.25|        Egypt|  EG| EGY|          Al Qāhirah|primary|   1.1893E7|1818253931|\n",
      "|Rio de Janeiro|Rio de Janeiro| -22.925|  -43.225|       Brazil|  BR| BRA|      Rio de Janeiro|  admin|   1.1748E7|1076887657|\n",
      "|         Ōsaka|         Osaka|   34.75| 135.4601|        Japan|  JP| JPN|               Ōsaka|  admin|   1.1294E7|1392419823|\n",
      "|       Beijing|       Beijing| 39.9289| 116.3883|        China|  CN| CHN|             Beijing|primary|   1.1106E7|1156228865|\n",
      "|        Manila|        Manila| 14.6042| 120.9822|  Philippines|  PH| PHL|              Manila|primary|     1.11E7|1608618140|\n",
      "|        Moscow|        Moscow| 55.7522|  37.6155|       Russia|  RU| RUS|              Moskva|primary|   1.0452E7|1643318494|\n",
      "|      Istanbul|      Istanbul|  41.105|    29.01|       Turkey|  TR| TUR|            İstanbul|  admin|   1.0061E7|1792756324|\n",
      "|         Paris|         Paris| 48.8667|   2.3333|       France|  FR| FRA|       Île-de-France|primary|  9904000.0|1250015082|\n",
      "+--------------+--------------+--------+---------+-------------+----+----+--------------------+-------+-----------+----------+\n",
      "only showing top 20 rows\n",
      "\n"
     ]
    }
   ],
   "source": [
    "cities_df.show()"
   ]
  },
  {
   "cell_type": "code",
   "execution_count": 12,
   "id": "87d9515c-d4f0-4b7b-b951-27d8e7afb1fd",
   "metadata": {},
   "outputs": [
    {
     "name": "stdout",
     "output_type": "stream",
     "text": [
      "+--------------+--------------+--------+--------+-------+----+----+-------------------+-------+----------+----------+\n",
      "|          city|    city_ascii|     lat|     lng|country|iso2|iso3|         admin_name|capital|population|        id|\n",
      "+--------------+--------------+--------+--------+-------+----+----+-------------------+-------+----------+----------+\n",
      "|     São Paulo|     Sao Paulo|-23.5587| -46.625| Brazil|  BR| BRA|          São Paulo|  admin|  1.8845E7|1076532519|\n",
      "|Rio de Janeiro|Rio de Janeiro| -22.925| -43.225| Brazil|  BR| BRA|     Rio de Janeiro|  admin|  1.1748E7|1076887657|\n",
      "|Belo Horizonte|Belo Horizonte| -19.915| -43.915| Brazil|  BR| BRA|       Minas Gerais|  admin| 5575000.0|1076967355|\n",
      "|  Porto Alegre|  Porto Alegre|  -30.05|   -51.2| Brazil|  BR| BRA|  Rio Grande do Sul|  admin| 3917000.0|1076658221|\n",
      "|      Brasília|      Brasilia|-15.7833|-47.9161| Brazil|  BR| BRA|   Distrito Federal|primary| 3716996.0|1076144436|\n",
      "|        Recife|        Recife| -8.0756|-34.9156| Brazil|  BR| BRA|         Pernambuco|  admin| 3651000.0|1076137337|\n",
      "|     Fortaleza|     Fortaleza|   -3.75|  -38.58| Brazil|  BR| BRA|              Ceará|  admin| 3602319.0|1076567885|\n",
      "|      Salvador|      Salvador|  -12.97|  -38.48| Brazil|  BR| BRA|              Bahia|  admin| 3484000.0|1076923789|\n",
      "|      Curitiba|      Curitiba|  -25.42|  -49.32| Brazil|  BR| BRA|             Paraná|  admin| 3084000.0|1076701712|\n",
      "|      Campinas|      Campinas|   -22.9|   -47.1| Brazil|  BR| BRA|          São Paulo|   null| 2791000.0|1076145766|\n",
      "|         Belém|         Belem|   -1.45|  -48.48| Brazil|  BR| BRA|               Pará|  admin| 2167000.0|1076646823|\n",
      "|       Goiânia|       Goiania|  -16.72|   -49.3| Brazil|  BR| BRA|              Goiás|  admin| 2022000.0|1076034054|\n",
      "|        Manaus|        Manaus|    -3.1|   -60.0| Brazil|  BR| BRA|           Amazonas|  admin| 1753000.0|1076607274|\n",
      "|        Santos|        Santos|-23.9537|-46.3329| Brazil|  BR| BRA|          São Paulo|   null| 1709000.0|1076033299|\n",
      "|       Vitória|       Vitoria| -20.324| -40.366| Brazil|  BR| BRA|     Espírito Santo|  admin| 1704000.0|1076376829|\n",
      "|       Niterói|       Niteroi|   -22.9|   -43.1| Brazil|  BR| BRA|     Rio de Janeiro|   null| 1500513.0|1076501425|\n",
      "|    Vila Velha|    Vila Velha|-20.3676| -40.318| Brazil|  BR| BRA|     Espírito Santo|   null| 1209091.0|1076404077|\n",
      "|    Vila Velha|    Vila Velha|  3.2167|-51.2167| Brazil|  BR| BRA|              Amapá|   null| 1209091.0|1076575691|\n",
      "|        Maceió|        Maceio|   -9.62|  -35.73| Brazil|  BR| BRA|            Alagoas|  admin| 1186000.0|1076440479|\n",
      "|         Natal|         Natal|   -5.78|  -35.24| Brazil|  BR| BRA|Rio Grande do Norte|  admin| 1088000.0|1076697777|\n",
      "+--------------+--------------+--------+--------+-------+----+----+-------------------+-------+----------+----------+\n",
      "only showing top 20 rows\n",
      "\n"
     ]
    }
   ],
   "source": [
    "#filtrando algumas cidades\n",
    "from pyspark.sql.functions import col\n",
    "cities_BR = cities_df.where(col(\"country\") == \"Brazil\")\n",
    "cities_BR.show()"
   ]
  },
  {
   "cell_type": "code",
   "execution_count": 13,
   "id": "7a2bbc86-a551-454a-a0dd-2d067b134672",
   "metadata": {},
   "outputs": [
    {
     "name": "stdout",
     "output_type": "stream",
     "text": [
      "+--------------------+--------------------+-------+---------+-------+----+----+--------------------+-------+----------+----------+\n",
      "|                city|          city_ascii|    lat|      lng|country|iso2|iso3|          admin_name|capital|population|        id|\n",
      "+--------------------+--------------------+-------+---------+-------+----+----+--------------------+-------+----------+----------+\n",
      "|         Mexico City|         Mexico City|19.4424|  -99.131| Mexico|  MX| MEX|    Ciudad de México|primary|  1.9028E7|1484247881|\n",
      "|         Guadalajara|         Guadalajara|  20.67|  -103.33| Mexico|  MX| MEX|             Jalisco|  admin| 4198000.0|1484950208|\n",
      "|           Monterrey|           Monterrey|  25.67|  -100.33| Mexico|  MX| MEX|          Nuevo León|  admin| 3712000.0|1484559591|\n",
      "|              Puebla|              Puebla|  19.05|    -98.2| Mexico|  MX| MEX|              Puebla|  admin| 2195000.0|1484416394|\n",
      "|             Tijuana|             Tijuana|   32.5|  -117.08| Mexico|  MX| MEX|     Baja California|  minor| 1553000.0|1484708778|\n",
      "|              Toluca|              Toluca|19.3304|   -99.67| Mexico|  MX| MEX|              México|  admin| 1531000.0|1484124846|\n",
      "|  León de los Aldama|  Leon de los Aldama|  21.15|   -101.7| Mexico|  MX| MEX|          Guanajuato|  minor| 1488000.0|1484811199|\n",
      "|              Juárez|              Juarez|31.6904|  -106.49| Mexico|  MX| MEX|           Chihuahua|  minor| 1343000.0|1484840083|\n",
      "|             Torreón|             Torreon|25.5701|  -103.42| Mexico|  MX| MEX|Coahuila de Zaragoza|  minor| 1144000.0|1484215762|\n",
      "|Ciudad Nezahualcó...|Ciudad Nezahualco...|  19.41|   -99.03| Mexico|  MX| MEX|              México|   null| 1109363.0|1484016661|\n",
      "|     San Luis Potosí|     San Luis Potosi|  22.17|   -101.0| Mexico|  MX| MEX|     San Luis Potosí|  admin|  992000.0|1484583620|\n",
      "|              Mérida|              Merida|20.9666| -89.6166| Mexico|  MX| MEX|             Yucatán|  admin|  965000.0|1484396779|\n",
      "|           Querétaro|           Queretaro|  20.63|  -100.38| Mexico|  MX| MEX|           Querétaro|  admin|  961000.0|1484604775|\n",
      "|            Mexicali|            Mexicali|  32.65|  -115.48| Mexico|  MX| MEX|     Baja California|  admin|  885000.0|1484788702|\n",
      "|      Aguascalientes|      Aguascalientes|21.8795|-102.2904| Mexico|  MX| MEX|      Aguascalientes|  admin|  869000.0|1484666646|\n",
      "|             Tampico|             Tampico|   22.3|   -97.87| Mexico|  MX| MEX|          Tamaulipas|  minor|  859419.0|1484060031|\n",
      "|          Cuernavaca|          Cuernavaca|18.9211|   -99.24| Mexico|  MX| MEX|             Morelos|  admin|  834001.0|1484926471|\n",
      "|            Culiacán|            Culiacan|  24.83|  -107.38| Mexico|  MX| MEX|             Sinaloa|  admin|  809000.0|1484516810|\n",
      "|           Chihuahua|           Chihuahua| 28.645| -106.085| Mexico|  MX| MEX|           Chihuahua|  admin|  793000.0|1484335603|\n",
      "|            Saltillo|            Saltillo|  25.42| -101.005| Mexico|  MX| MEX|Coahuila de Zaragoza|  admin|  754000.0|1484107245|\n",
      "+--------------------+--------------------+-------+---------+-------+----+----+--------------------+-------+----------+----------+\n",
      "only showing top 20 rows\n",
      "\n"
     ]
    }
   ],
   "source": [
    "cities_MX = cities_df.where(col(\"country\") == \"Mexico\")\n",
    "cities_MX.show()"
   ]
  },
  {
   "cell_type": "code",
   "execution_count": 15,
   "id": "7d03a61b-233c-48a4-bc62-b5649fee4b21",
   "metadata": {},
   "outputs": [
    {
     "name": "stdout",
     "output_type": "stream",
     "text": [
      "+-----------+-----------+-------+---------+-------------+----+----+----------+-------+-----------+----------+\n",
      "|       city| city_ascii|    lat|      lng|      country|iso2|iso3|admin_name|capital| population|        id|\n",
      "+-----------+-----------+-------+---------+-------------+----+----+----------+-------+-----------+----------+\n",
      "|   New York|   New York|40.6943| -73.9249|United States|  US| USA|  New York|   null|1.9354922E7|1840034016|\n",
      "|Los Angeles|Los Angeles|34.1139|-118.4068|United States|  US| USA|California|   null|1.2815475E7|1840020491|\n",
      "|    Chicago|    Chicago|41.8373| -87.6862|United States|  US| USA|  Illinois|   null|  8675982.0|1840000494|\n",
      "|      Miami|      Miami|25.7839| -80.2102|United States|  US| USA|   Florida|   null|  6381966.0|1840015149|\n",
      "|     Dallas|     Dallas|32.7936| -96.7662|United States|  US| USA|     Texas|   null|  5733259.0|1840019440|\n",
      "+-----------+-----------+-------+---------+-------------+----+----+----------+-------+-----------+----------+\n",
      "only showing top 5 rows\n",
      "\n"
     ]
    }
   ],
   "source": [
    "cities_EUA = cities_df.where(col(\"country\") == \"United States\")\n",
    "cities_EUA.show(5)"
   ]
  },
  {
   "cell_type": "code",
   "execution_count": 17,
   "id": "190973ae-cd9f-4c91-a5e2-c7f934314d78",
   "metadata": {},
   "outputs": [
    {
     "name": "stdout",
     "output_type": "stream",
     "text": [
      "+--------------+--------------+--------+--------+-------+----+----+-------------------+-------+----------+----------+\n",
      "|          city|    city_ascii|     lat|     lng|country|iso2|iso3|         admin_name|capital|population|        id|\n",
      "+--------------+--------------+--------+--------+-------+----+----+-------------------+-------+----------+----------+\n",
      "|     São Paulo|     Sao Paulo|-23.5587| -46.625| Brazil|  BR| BRA|          São Paulo|  admin|  1.8845E7|1076532519|\n",
      "|Rio de Janeiro|Rio de Janeiro| -22.925| -43.225| Brazil|  BR| BRA|     Rio de Janeiro|  admin|  1.1748E7|1076887657|\n",
      "|Belo Horizonte|Belo Horizonte| -19.915| -43.915| Brazil|  BR| BRA|       Minas Gerais|  admin| 5575000.0|1076967355|\n",
      "|  Porto Alegre|  Porto Alegre|  -30.05|   -51.2| Brazil|  BR| BRA|  Rio Grande do Sul|  admin| 3917000.0|1076658221|\n",
      "|      Brasília|      Brasilia|-15.7833|-47.9161| Brazil|  BR| BRA|   Distrito Federal|primary| 3716996.0|1076144436|\n",
      "|        Recife|        Recife| -8.0756|-34.9156| Brazil|  BR| BRA|         Pernambuco|  admin| 3651000.0|1076137337|\n",
      "|     Fortaleza|     Fortaleza|   -3.75|  -38.58| Brazil|  BR| BRA|              Ceará|  admin| 3602319.0|1076567885|\n",
      "|      Salvador|      Salvador|  -12.97|  -38.48| Brazil|  BR| BRA|              Bahia|  admin| 3484000.0|1076923789|\n",
      "|      Curitiba|      Curitiba|  -25.42|  -49.32| Brazil|  BR| BRA|             Paraná|  admin| 3084000.0|1076701712|\n",
      "|      Campinas|      Campinas|   -22.9|   -47.1| Brazil|  BR| BRA|          São Paulo|   null| 2791000.0|1076145766|\n",
      "|         Belém|         Belem|   -1.45|  -48.48| Brazil|  BR| BRA|               Pará|  admin| 2167000.0|1076646823|\n",
      "|       Goiânia|       Goiania|  -16.72|   -49.3| Brazil|  BR| BRA|              Goiás|  admin| 2022000.0|1076034054|\n",
      "|        Manaus|        Manaus|    -3.1|   -60.0| Brazil|  BR| BRA|           Amazonas|  admin| 1753000.0|1076607274|\n",
      "|        Santos|        Santos|-23.9537|-46.3329| Brazil|  BR| BRA|          São Paulo|   null| 1709000.0|1076033299|\n",
      "|       Vitória|       Vitoria| -20.324| -40.366| Brazil|  BR| BRA|     Espírito Santo|  admin| 1704000.0|1076376829|\n",
      "|       Niterói|       Niteroi|   -22.9|   -43.1| Brazil|  BR| BRA|     Rio de Janeiro|   null| 1500513.0|1076501425|\n",
      "|    Vila Velha|    Vila Velha|-20.3676| -40.318| Brazil|  BR| BRA|     Espírito Santo|   null| 1209091.0|1076404077|\n",
      "|    Vila Velha|    Vila Velha|  3.2167|-51.2167| Brazil|  BR| BRA|              Amapá|   null| 1209091.0|1076575691|\n",
      "|        Maceió|        Maceio|   -9.62|  -35.73| Brazil|  BR| BRA|            Alagoas|  admin| 1186000.0|1076440479|\n",
      "|         Natal|         Natal|   -5.78|  -35.24| Brazil|  BR| BRA|Rio Grande do Norte|  admin| 1088000.0|1076697777|\n",
      "+--------------+--------------+--------+--------+-------+----+----+-------------------+-------+----------+----------+\n",
      "only showing top 20 rows\n",
      "\n"
     ]
    }
   ],
   "source": [
    "#criando um dataset a partir da função join (fazendo uniao)\n",
    "df_concat = cities_BR.union(cities_MX)\n",
    "df_concat.show()"
   ]
  },
  {
   "cell_type": "code",
   "execution_count": 19,
   "id": "9a2b3368-e6f9-46ce-ad1d-fa818496381d",
   "metadata": {},
   "outputs": [
    {
     "name": "stdout",
     "output_type": "stream",
     "text": [
      "+-------+-----+\n",
      "|country|count|\n",
      "+-------+-----+\n",
      "| Brazil|  387|\n",
      "| Mexico|  188|\n",
      "+-------+-----+\n",
      "\n"
     ]
    }
   ],
   "source": [
    "#contando a quantidade de cidades em cada país\n",
    "df_concat.groupby(\"country\").count().show()"
   ]
  },
  {
   "cell_type": "code",
   "execution_count": 22,
   "id": "3af4c6c7-71ec-41bd-a4b7-8a76b75e567a",
   "metadata": {},
   "outputs": [
    {
     "name": "stdout",
     "output_type": "stream",
     "text": [
      "+--------+----------+------+--------+-------+----+----+----------+-------+----------+----------+\n",
      "|    city|city_ascii|   lat|     lng|country|iso2|iso3|admin_name|capital|population|        id|\n",
      "+--------+----------+------+--------+-------+----+----+----------+-------+----------+----------+\n",
      "|   Tokyo|     Tokyo|35.685|139.7514|  Japan|  JP| JPN|     Tōkyō|primary|  3.5676E7|1392685764|\n",
      "|Yokohama|  Yokohama| 35.32|  139.58|  Japan|  JP| JPN|  Kanagawa|  admin| 3697894.0|1392118339|\n",
      "+--------+----------+------+--------+-------+----+----+----------+-------+----------+----------+\n",
      "\n"
     ]
    }
   ],
   "source": [
    "#adicionando cidades do japão (anomalias)\n",
    "cities_JP = cities_df.where((col(\"city\")==\"Tokyo\") | (col(\"city\") == \"Yokohama\"))\n",
    "cities_JP.show()"
   ]
  },
  {
   "cell_type": "code",
   "execution_count": 23,
   "id": "a5ede60c-324e-4796-9669-bfc3335879db",
   "metadata": {},
   "outputs": [],
   "source": [
    "#adicionando ao dataset final\n",
    "df_final = df_concat.union(cities_JP)"
   ]
  },
  {
   "cell_type": "code",
   "execution_count": 24,
   "id": "d04d6762-3e98-45e6-b329-d73e4390b430",
   "metadata": {},
   "outputs": [
    {
     "name": "stdout",
     "output_type": "stream",
     "text": [
      "+--------------+--------------+--------+--------+-------+----+----+-------------------+-------+----------+----------+\n",
      "|          city|    city_ascii|     lat|     lng|country|iso2|iso3|         admin_name|capital|population|        id|\n",
      "+--------------+--------------+--------+--------+-------+----+----+-------------------+-------+----------+----------+\n",
      "|     São Paulo|     Sao Paulo|-23.5587| -46.625| Brazil|  BR| BRA|          São Paulo|  admin|  1.8845E7|1076532519|\n",
      "|Rio de Janeiro|Rio de Janeiro| -22.925| -43.225| Brazil|  BR| BRA|     Rio de Janeiro|  admin|  1.1748E7|1076887657|\n",
      "|Belo Horizonte|Belo Horizonte| -19.915| -43.915| Brazil|  BR| BRA|       Minas Gerais|  admin| 5575000.0|1076967355|\n",
      "|  Porto Alegre|  Porto Alegre|  -30.05|   -51.2| Brazil|  BR| BRA|  Rio Grande do Sul|  admin| 3917000.0|1076658221|\n",
      "|      Brasília|      Brasilia|-15.7833|-47.9161| Brazil|  BR| BRA|   Distrito Federal|primary| 3716996.0|1076144436|\n",
      "|        Recife|        Recife| -8.0756|-34.9156| Brazil|  BR| BRA|         Pernambuco|  admin| 3651000.0|1076137337|\n",
      "|     Fortaleza|     Fortaleza|   -3.75|  -38.58| Brazil|  BR| BRA|              Ceará|  admin| 3602319.0|1076567885|\n",
      "|      Salvador|      Salvador|  -12.97|  -38.48| Brazil|  BR| BRA|              Bahia|  admin| 3484000.0|1076923789|\n",
      "|      Curitiba|      Curitiba|  -25.42|  -49.32| Brazil|  BR| BRA|             Paraná|  admin| 3084000.0|1076701712|\n",
      "|      Campinas|      Campinas|   -22.9|   -47.1| Brazil|  BR| BRA|          São Paulo|   null| 2791000.0|1076145766|\n",
      "|         Belém|         Belem|   -1.45|  -48.48| Brazil|  BR| BRA|               Pará|  admin| 2167000.0|1076646823|\n",
      "|       Goiânia|       Goiania|  -16.72|   -49.3| Brazil|  BR| BRA|              Goiás|  admin| 2022000.0|1076034054|\n",
      "|        Manaus|        Manaus|    -3.1|   -60.0| Brazil|  BR| BRA|           Amazonas|  admin| 1753000.0|1076607274|\n",
      "|        Santos|        Santos|-23.9537|-46.3329| Brazil|  BR| BRA|          São Paulo|   null| 1709000.0|1076033299|\n",
      "|       Vitória|       Vitoria| -20.324| -40.366| Brazil|  BR| BRA|     Espírito Santo|  admin| 1704000.0|1076376829|\n",
      "|       Niterói|       Niteroi|   -22.9|   -43.1| Brazil|  BR| BRA|     Rio de Janeiro|   null| 1500513.0|1076501425|\n",
      "|    Vila Velha|    Vila Velha|-20.3676| -40.318| Brazil|  BR| BRA|     Espírito Santo|   null| 1209091.0|1076404077|\n",
      "|    Vila Velha|    Vila Velha|  3.2167|-51.2167| Brazil|  BR| BRA|              Amapá|   null| 1209091.0|1076575691|\n",
      "|        Maceió|        Maceio|   -9.62|  -35.73| Brazil|  BR| BRA|            Alagoas|  admin| 1186000.0|1076440479|\n",
      "|         Natal|         Natal|   -5.78|  -35.24| Brazil|  BR| BRA|Rio Grande do Norte|  admin| 1088000.0|1076697777|\n",
      "+--------------+--------------+--------+--------+-------+----+----+-------------------+-------+----------+----------+\n",
      "only showing top 20 rows\n",
      "\n"
     ]
    }
   ],
   "source": [
    "df_final.show()"
   ]
  },
  {
   "cell_type": "code",
   "execution_count": 25,
   "id": "30fcf8f9-06ec-4a9e-9e9d-deebbbc8e860",
   "metadata": {},
   "outputs": [],
   "source": [
    "from pyspark.ml.evaluation import ClusteringEvaluator #biblioteca utilizada para a avaliação em cada um dos cluters\n",
    "from pyspark.ml.clustering import KMeans"
   ]
  },
  {
   "cell_type": "code",
   "execution_count": 26,
   "id": "0dbfe76a-06c8-425a-8869-e49ac15e1c80",
   "metadata": {},
   "outputs": [
    {
     "name": "stdout",
     "output_type": "stream",
     "text": [
      "+--------------+--------------+--------+--------+-------+----+----+-------------------+-------+----------+----------+-------------------+\n",
      "|          city|    city_ascii|     lat|     lng|country|iso2|iso3|         admin_name|capital|population|        id|           features|\n",
      "+--------------+--------------+--------+--------+-------+----+----+-------------------+-------+----------+----------+-------------------+\n",
      "|     São Paulo|     Sao Paulo|-23.5587| -46.625| Brazil|  BR| BRA|          São Paulo|  admin|  1.8845E7|1076532519| [-23.5587,-46.625]|\n",
      "|Rio de Janeiro|Rio de Janeiro| -22.925| -43.225| Brazil|  BR| BRA|     Rio de Janeiro|  admin|  1.1748E7|1076887657|  [-22.925,-43.225]|\n",
      "|Belo Horizonte|Belo Horizonte| -19.915| -43.915| Brazil|  BR| BRA|       Minas Gerais|  admin| 5575000.0|1076967355|  [-19.915,-43.915]|\n",
      "|  Porto Alegre|  Porto Alegre|  -30.05|   -51.2| Brazil|  BR| BRA|  Rio Grande do Sul|  admin| 3917000.0|1076658221|     [-30.05,-51.2]|\n",
      "|      Brasília|      Brasilia|-15.7833|-47.9161| Brazil|  BR| BRA|   Distrito Federal|primary| 3716996.0|1076144436|[-15.7833,-47.9161]|\n",
      "|        Recife|        Recife| -8.0756|-34.9156| Brazil|  BR| BRA|         Pernambuco|  admin| 3651000.0|1076137337| [-8.0756,-34.9156]|\n",
      "|     Fortaleza|     Fortaleza|   -3.75|  -38.58| Brazil|  BR| BRA|              Ceará|  admin| 3602319.0|1076567885|     [-3.75,-38.58]|\n",
      "|      Salvador|      Salvador|  -12.97|  -38.48| Brazil|  BR| BRA|              Bahia|  admin| 3484000.0|1076923789|    [-12.97,-38.48]|\n",
      "|      Curitiba|      Curitiba|  -25.42|  -49.32| Brazil|  BR| BRA|             Paraná|  admin| 3084000.0|1076701712|    [-25.42,-49.32]|\n",
      "|      Campinas|      Campinas|   -22.9|   -47.1| Brazil|  BR| BRA|          São Paulo|   null| 2791000.0|1076145766|      [-22.9,-47.1]|\n",
      "|         Belém|         Belem|   -1.45|  -48.48| Brazil|  BR| BRA|               Pará|  admin| 2167000.0|1076646823|     [-1.45,-48.48]|\n",
      "|       Goiânia|       Goiania|  -16.72|   -49.3| Brazil|  BR| BRA|              Goiás|  admin| 2022000.0|1076034054|     [-16.72,-49.3]|\n",
      "|        Manaus|        Manaus|    -3.1|   -60.0| Brazil|  BR| BRA|           Amazonas|  admin| 1753000.0|1076607274|       [-3.1,-60.0]|\n",
      "|        Santos|        Santos|-23.9537|-46.3329| Brazil|  BR| BRA|          São Paulo|   null| 1709000.0|1076033299|[-23.9537,-46.3329]|\n",
      "|       Vitória|       Vitoria| -20.324| -40.366| Brazil|  BR| BRA|     Espírito Santo|  admin| 1704000.0|1076376829|  [-20.324,-40.366]|\n",
      "|       Niterói|       Niteroi|   -22.9|   -43.1| Brazil|  BR| BRA|     Rio de Janeiro|   null| 1500513.0|1076501425|      [-22.9,-43.1]|\n",
      "|    Vila Velha|    Vila Velha|-20.3676| -40.318| Brazil|  BR| BRA|     Espírito Santo|   null| 1209091.0|1076404077| [-20.3676,-40.318]|\n",
      "|    Vila Velha|    Vila Velha|  3.2167|-51.2167| Brazil|  BR| BRA|              Amapá|   null| 1209091.0|1076575691|  [3.2167,-51.2167]|\n",
      "|        Maceió|        Maceio|   -9.62|  -35.73| Brazil|  BR| BRA|            Alagoas|  admin| 1186000.0|1076440479|     [-9.62,-35.73]|\n",
      "|         Natal|         Natal|   -5.78|  -35.24| Brazil|  BR| BRA|Rio Grande do Norte|  admin| 1088000.0|1076697777|     [-5.78,-35.24]|\n",
      "+--------------+--------------+--------+--------+-------+----+----+-------------------+-------+----------+----------+-------------------+\n",
      "only showing top 20 rows\n",
      "\n"
     ]
    }
   ],
   "source": [
    "from pyspark.ml.feature import VectorAssembler #transoforma os dados em vetores de característica\n",
    "\n",
    "vecAssembler = VectorAssembler(inputCols = ['lat','lng'], outputCol = 'features') #utilizada para transoformar os dados em vetor\n",
    "new_df = vecAssembler.transform(df_final) #aplica a transformação\n",
    "new_df.show()"
   ]
  },
  {
   "cell_type": "code",
   "execution_count": 27,
   "id": "e3592844-465d-48aa-8bfe-4d0041ce4a0c",
   "metadata": {},
   "outputs": [],
   "source": [
    "#aplica o processo de clusterização\n",
    "kmeans = KMeans(k=3, seed = 1)\n",
    "model = kmeans.fit(new_df.select('features')) #aplica o treinamento"
   ]
  },
  {
   "cell_type": "code",
   "execution_count": 28,
   "id": "5cc1fc52-dea1-4e17-a457-df34be9b82d9",
   "metadata": {},
   "outputs": [
    {
     "name": "stdout",
     "output_type": "stream",
     "text": [
      "+--------------+--------------+--------+--------+-------+----+----+-------------------+-------+----------+----------+-------------------+----------+\n",
      "|          city|    city_ascii|     lat|     lng|country|iso2|iso3|         admin_name|capital|population|        id|           features|prediction|\n",
      "+--------------+--------------+--------+--------+-------+----+----+-------------------+-------+----------+----------+-------------------+----------+\n",
      "|     São Paulo|     Sao Paulo|-23.5587| -46.625| Brazil|  BR| BRA|          São Paulo|  admin|  1.8845E7|1076532519| [-23.5587,-46.625]|         0|\n",
      "|Rio de Janeiro|Rio de Janeiro| -22.925| -43.225| Brazil|  BR| BRA|     Rio de Janeiro|  admin|  1.1748E7|1076887657|  [-22.925,-43.225]|         0|\n",
      "|Belo Horizonte|Belo Horizonte| -19.915| -43.915| Brazil|  BR| BRA|       Minas Gerais|  admin| 5575000.0|1076967355|  [-19.915,-43.915]|         0|\n",
      "|  Porto Alegre|  Porto Alegre|  -30.05|   -51.2| Brazil|  BR| BRA|  Rio Grande do Sul|  admin| 3917000.0|1076658221|     [-30.05,-51.2]|         0|\n",
      "|      Brasília|      Brasilia|-15.7833|-47.9161| Brazil|  BR| BRA|   Distrito Federal|primary| 3716996.0|1076144436|[-15.7833,-47.9161]|         0|\n",
      "|        Recife|        Recife| -8.0756|-34.9156| Brazil|  BR| BRA|         Pernambuco|  admin| 3651000.0|1076137337| [-8.0756,-34.9156]|         0|\n",
      "|     Fortaleza|     Fortaleza|   -3.75|  -38.58| Brazil|  BR| BRA|              Ceará|  admin| 3602319.0|1076567885|     [-3.75,-38.58]|         0|\n",
      "|      Salvador|      Salvador|  -12.97|  -38.48| Brazil|  BR| BRA|              Bahia|  admin| 3484000.0|1076923789|    [-12.97,-38.48]|         0|\n",
      "|      Curitiba|      Curitiba|  -25.42|  -49.32| Brazil|  BR| BRA|             Paraná|  admin| 3084000.0|1076701712|    [-25.42,-49.32]|         0|\n",
      "|      Campinas|      Campinas|   -22.9|   -47.1| Brazil|  BR| BRA|          São Paulo|   null| 2791000.0|1076145766|      [-22.9,-47.1]|         0|\n",
      "|         Belém|         Belem|   -1.45|  -48.48| Brazil|  BR| BRA|               Pará|  admin| 2167000.0|1076646823|     [-1.45,-48.48]|         0|\n",
      "|       Goiânia|       Goiania|  -16.72|   -49.3| Brazil|  BR| BRA|              Goiás|  admin| 2022000.0|1076034054|     [-16.72,-49.3]|         0|\n",
      "|        Manaus|        Manaus|    -3.1|   -60.0| Brazil|  BR| BRA|           Amazonas|  admin| 1753000.0|1076607274|       [-3.1,-60.0]|         0|\n",
      "|        Santos|        Santos|-23.9537|-46.3329| Brazil|  BR| BRA|          São Paulo|   null| 1709000.0|1076033299|[-23.9537,-46.3329]|         0|\n",
      "|       Vitória|       Vitoria| -20.324| -40.366| Brazil|  BR| BRA|     Espírito Santo|  admin| 1704000.0|1076376829|  [-20.324,-40.366]|         0|\n",
      "|       Niterói|       Niteroi|   -22.9|   -43.1| Brazil|  BR| BRA|     Rio de Janeiro|   null| 1500513.0|1076501425|      [-22.9,-43.1]|         0|\n",
      "|    Vila Velha|    Vila Velha|-20.3676| -40.318| Brazil|  BR| BRA|     Espírito Santo|   null| 1209091.0|1076404077| [-20.3676,-40.318]|         0|\n",
      "|    Vila Velha|    Vila Velha|  3.2167|-51.2167| Brazil|  BR| BRA|              Amapá|   null| 1209091.0|1076575691|  [3.2167,-51.2167]|         0|\n",
      "|        Maceió|        Maceio|   -9.62|  -35.73| Brazil|  BR| BRA|            Alagoas|  admin| 1186000.0|1076440479|     [-9.62,-35.73]|         0|\n",
      "|         Natal|         Natal|   -5.78|  -35.24| Brazil|  BR| BRA|Rio Grande do Norte|  admin| 1088000.0|1076697777|     [-5.78,-35.24]|         0|\n",
      "+--------------+--------------+--------+--------+-------+----+----+-------------------+-------+----------+----------+-------------------+----------+\n",
      "only showing top 20 rows\n",
      "\n"
     ]
    }
   ],
   "source": [
    "#cria o dataset com a indicação sobre qual cluster cada conjunto de dados foi adicionado\n",
    "df_final = model.transform(new_df)\n",
    "df_final.show()"
   ]
  },
  {
   "cell_type": "code",
   "execution_count": 29,
   "id": "5b596f1c-bb09-45ba-9f68-0d714c8e8498",
   "metadata": {},
   "outputs": [
    {
     "name": "stdout",
     "output_type": "stream",
     "text": [
      "+----------+-----+\n",
      "|prediction|count|\n",
      "+----------+-----+\n",
      "|         0|  387|\n",
      "|         1|  188|\n",
      "|         2|    2|\n",
      "+----------+-----+\n",
      "\n"
     ]
    }
   ],
   "source": [
    "df_final.groupby(\"prediction\").count().show()"
   ]
  },
  {
   "cell_type": "code",
   "execution_count": 30,
   "id": "f3ea48c4-eacb-4c71-bb38-57a688de5802",
   "metadata": {},
   "outputs": [
    {
     "name": "stdout",
     "output_type": "stream",
     "text": [
      "+--------+----------+------+--------+-------+----+----+----------+-------+----------+----------+-----------------+----------+\n",
      "|    city|city_ascii|   lat|     lng|country|iso2|iso3|admin_name|capital|population|        id|         features|prediction|\n",
      "+--------+----------+------+--------+-------+----+----+----------+-------+----------+----------+-----------------+----------+\n",
      "|   Tokyo|     Tokyo|35.685|139.7514|  Japan|  JP| JPN|     Tōkyō|primary|  3.5676E7|1392685764|[35.685,139.7514]|         2|\n",
      "|Yokohama|  Yokohama| 35.32|  139.58|  Japan|  JP| JPN|  Kanagawa|  admin| 3697894.0|1392118339|   [35.32,139.58]|         2|\n",
      "+--------+----------+------+--------+-------+----+----+----------+-------+----------+----------+-----------------+----------+\n",
      "\n"
     ]
    }
   ],
   "source": [
    "df_final.where(col('prediction')=='2').show()"
   ]
  }
 ],
 "metadata": {
  "kernelspec": {
   "display_name": "Python 3 (ipykernel)",
   "language": "python",
   "name": "python3"
  },
  "language_info": {
   "codemirror_mode": {
    "name": "ipython",
    "version": 3
   },
   "file_extension": ".py",
   "mimetype": "text/x-python",
   "name": "python",
   "nbconvert_exporter": "python",
   "pygments_lexer": "ipython3",
   "version": "3.9.7"
  }
 },
 "nbformat": 4,
 "nbformat_minor": 5
}
