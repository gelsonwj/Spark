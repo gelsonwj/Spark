{
 "cells": [
  {
   "cell_type": "markdown",
   "id": "02f5b9f7-1d2b-4ae4-805b-d02a5c556c77",
   "metadata": {},
   "source": [
    "# Análise Exploratória e Machine Learning com Spark SQL"
   ]
  },
  {
   "cell_type": "code",
   "execution_count": 1,
   "id": "b7d09882-af38-4f33-a69d-acede458e2c1",
   "metadata": {},
   "outputs": [],
   "source": [
    "import findspark\n",
    "findspark.init()"
   ]
  },
  {
   "cell_type": "code",
   "execution_count": 2,
   "id": "0cba9ade-84e0-45a5-b8aa-c5b615d00e21",
   "metadata": {},
   "outputs": [],
   "source": [
    "from pyspark.sql import SparkSession\n",
    "from pyspark.sql.types import *\n",
    "\n",
    "\n",
    "spark = SparkSession \\\n",
    "        .builder \\\n",
    "        .master('local') \\\n",
    "        .appName('desafio_modulo2') \\\n",
    "        .getOrCreate()"
   ]
  },
  {
   "cell_type": "markdown",
   "id": "5ed7c346-6ec3-49af-b12f-21cd09c842aa",
   "metadata": {},
   "source": [
    "#### preparação do dataset"
   ]
  },
  {
   "cell_type": "code",
   "execution_count": 3,
   "id": "9df4dbb9-7c68-4d8f-81c4-b0d337604940",
   "metadata": {},
   "outputs": [],
   "source": [
    "from pyspark.sql.types import StructType, DateType, StringType, IntegerType, DoubleType\n",
    "\n",
    "schema = StructType() \\\n",
    "    .add('Id', IntegerType(), True) \\\n",
    "    .add('Gender', StringType(), True) \\\n",
    "    .add('Age', IntegerType(), True) \\\n",
    "    .add('Hypertension', IntegerType(), True) \\\n",
    "    .add('Heart_disease', IntegerType(), True) \\\n",
    "    .add('Ever_married', StringType(), True) \\\n",
    "    .add('Work_Type', StringType(), True) \\\n",
    "    .add('Residence_Type', StringType(), True) \\\n",
    "    .add('Avg_glucose_level', DoubleType(), True) \\\n",
    "    .add('IMC', DoubleType(), True) \\\n",
    "    .add('Smoking_status', StringType(), True) \\\n",
    "    .add('Stroke', IntegerType(), True)"
   ]
  },
  {
   "cell_type": "code",
   "execution_count": 6,
   "id": "1804ffef-52dd-4c9d-93e5-dfb12f8991f6",
   "metadata": {},
   "outputs": [
    {
     "name": "stdout",
     "output_type": "stream",
     "text": [
      "root\n",
      " |-- Id: integer (nullable = true)\n",
      " |-- Gender: string (nullable = true)\n",
      " |-- Age: integer (nullable = true)\n",
      " |-- Hypertension: integer (nullable = true)\n",
      " |-- Heart_disease: integer (nullable = true)\n",
      " |-- Ever_married: string (nullable = true)\n",
      " |-- Work_Type: string (nullable = true)\n",
      " |-- Residence_Type: string (nullable = true)\n",
      " |-- Avg_glucose_level: double (nullable = true)\n",
      " |-- IMC: double (nullable = true)\n",
      " |-- Smoking_status: string (nullable = true)\n",
      " |-- Stroke: integer (nullable = true)\n",
      "\n",
      "+---+------+---+------------+-------------+------------+-------------+--------------+-----------------+-----+---------------+------+\n",
      "| Id|Gender|Age|Hypertension|Heart_disease|Ever_married|    Work_Type|Residence_Type|Avg_glucose_level|  IMC| Smoking_status|Stroke|\n",
      "+---+------+---+------------+-------------+------------+-------------+--------------+-----------------+-----+---------------+------+\n",
      "|  1|Female| 18|           0|            0|          No|      Private|         Urban|            94.19|12.12|         smokes|     1|\n",
      "|  2|  Male| 58|           1|            0|         Yes|      Private|         Rural|           154.24| 33.7|   never_smoked|     0|\n",
      "|  3|Female| 36|           0|            0|         Yes|     Govt_job|         Urban|            72.63| 24.7|         smokes|     0|\n",
      "|  4|Female| 62|           0|            0|         Yes|Self-employed|         Rural|            85.52| 31.2|formerly smoked|     0|\n",
      "|  5|Female| 82|           0|            0|         Yes|      Private|         Rural|            59.32| 33.2|         smokes|     1|\n",
      "|  6|Female| 82|           0|            0|          No|     Govt_job|         Urban|            234.5| 24.0|formerly smoked|     0|\n",
      "|  7|Female| 33|           0|            0|         Yes|Self-employed|         Urban|           193.42| 29.9|         smokes|     0|\n",
      "|  8|Female| 37|           0|            0|         Yes|      Private|         Rural|            156.7| 36.9|         smokes|     1|\n",
      "|  9|Female| 41|           0|            0|         Yes|     Govt_job|         Rural|            64.06| 33.8|         smokes|     1|\n",
      "| 10|Female| 70|           0|            0|         Yes|Self-employed|         Rural|            76.34| 24.4|formerly smoked|     1|\n",
      "| 11|Female| 25|           0|            0|          No|      Private|         Urban|            91.15| 28.7|         smokes|     1|\n",
      "| 12|Female| 43|           1|            0|          No|Self-employed|         Rural|            60.12| 34.2|formerly smoked|     0|\n",
      "| 13|  Male| 72|           0|            1|         Yes|      Private|         Rural|           235.22| 40.3|formerly smoked|     1|\n",
      "| 14|Female| 20|           0|            0|          No|      Private|         Rural|           106.47| 33.7|         smokes|     1|\n",
      "| 15|  Male| 20|           0|            0|          No|      Private|         Urban|           104.78| 20.3|         smokes|     1|\n",
      "| 16|  Male| 41|           0|            0|         Yes|Self-employed|         Urban|            159.3| 34.6|         smokes|     1|\n",
      "| 17|Female| 23|           0|            0|          No|      Private|         Urban|           116.95| 23.8|         smokes|     1|\n",
      "| 18|  Male| 22|           0|            0|          No|Self-employed|         Rural|            72.05| 31.9|         smokes|     1|\n",
      "| 19|  Male| 69|           0|            0|         Yes|      Private|         Rural|            64.06| 35.1|formerly smoked|     0|\n",
      "| 20|Female| 44|           0|            0|         Yes|Self-employed|         Rural|           135.03| 36.1|         smokes|     1|\n",
      "+---+------+---+------------+-------------+------------+-------------+--------------+-----------------+-----+---------------+------+\n",
      "only showing top 20 rows\n",
      "\n"
     ]
    }
   ],
   "source": [
    "df = spark.read.format('csv').option('header', True).schema(schema).load('D:\\csv\\stroke_data.csv')\n",
    "df.printSchema()\n",
    "df.show()"
   ]
  },
  {
   "cell_type": "markdown",
   "id": "03d55cf8-e5e3-4a0a-a483-4b76e2d3de1d",
   "metadata": {},
   "source": [
    "#### 1) Quantos registros existem no arquivo?"
   ]
  },
  {
   "cell_type": "code",
   "execution_count": 7,
   "id": "909d3015-a516-4db0-aac2-a91a09fc8185",
   "metadata": {},
   "outputs": [
    {
     "data": {
      "text/plain": [
       "67135"
      ]
     },
     "execution_count": 7,
     "metadata": {},
     "output_type": "execute_result"
    }
   ],
   "source": [
    "df.count()"
   ]
  },
  {
   "cell_type": "markdown",
   "id": "2ec9c232-f647-4179-93c4-efa91cc7b5fe",
   "metadata": {},
   "source": [
    "#### 2) Quantas colunas existem no arquivo? Quantas são numéricas?"
   ]
  },
  {
   "cell_type": "code",
   "execution_count": 8,
   "id": "4013ef09-328d-4963-b2c0-cf5604c264fb",
   "metadata": {},
   "outputs": [
    {
     "name": "stdout",
     "output_type": "stream",
     "text": [
      "root\n",
      " |-- Id: integer (nullable = true)\n",
      " |-- Gender: string (nullable = true)\n",
      " |-- Age: integer (nullable = true)\n",
      " |-- Hypertension: integer (nullable = true)\n",
      " |-- Heart_disease: integer (nullable = true)\n",
      " |-- Ever_married: string (nullable = true)\n",
      " |-- Work_Type: string (nullable = true)\n",
      " |-- Residence_Type: string (nullable = true)\n",
      " |-- Avg_glucose_level: double (nullable = true)\n",
      " |-- IMC: double (nullable = true)\n",
      " |-- Smoking_status: string (nullable = true)\n",
      " |-- Stroke: integer (nullable = true)\n",
      "\n"
     ]
    }
   ],
   "source": [
    "df.printSchema()\n",
    "#12 e 7"
   ]
  },
  {
   "cell_type": "markdown",
   "id": "7615b63a-3bbb-4f45-9f85-734353de65f9",
   "metadata": {},
   "source": [
    "#### 3) No conjunto de dados, quantos pacientes estavam doentes?"
   ]
  },
  {
   "cell_type": "code",
   "execution_count": 9,
   "id": "630e8590-0b19-4e05-ae94-fd6e68cba0eb",
   "metadata": {},
   "outputs": [
    {
     "name": "stdout",
     "output_type": "stream",
     "text": [
      "+-------------+-----+\n",
      "|Heart_disease|count|\n",
      "+-------------+-----+\n",
      "|            1| 6809|\n",
      "|            0|60326|\n",
      "+-------------+-----+\n",
      "\n"
     ]
    }
   ],
   "source": [
    "df.groupBy('Heart_disease').count().show()\n",
    "#6809"
   ]
  },
  {
   "cell_type": "markdown",
   "id": "797eb965-4d76-47eb-9f6a-42a1457108d2",
   "metadata": {},
   "source": [
    "#### 4) A partir do dataframe, crie uma tabela temporária usando df.createOrReplaceTempView('table') e, a seguir, use spark.sql para escrever uma consulta SQL que obtenha quantos pacientes tiveram derrame por tipo de trabalho (work_type). Quantos pacientes que sofreram derrame trabalhavam, respectivamente, no setor privado, de forma independente, no governo e quantas são crianças?\n"
   ]
  },
  {
   "cell_type": "code",
   "execution_count": 10,
   "id": "f4310a9d-9196-4356-a15f-f590612c8595",
   "metadata": {},
   "outputs": [
    {
     "name": "stdout",
     "output_type": "stream",
     "text": [
      "+-------------+-----+\n",
      "|    Work_Type|  qtd|\n",
      "+-------------+-----+\n",
      "|      Private|23711|\n",
      "|Self-employed|10807|\n",
      "|     Govt_job| 5164|\n",
      "|     children|  520|\n",
      "| Never_worked|   85|\n",
      "+-------------+-----+\n",
      "\n"
     ]
    }
   ],
   "source": [
    "from pyspark.sql.functions import *\n",
    "df.createOrReplaceTempView('table')\n",
    "\n",
    "spark.sql('SELECT Work_Type, count(*) as qtd FROM table WHERE Stroke = 1 GROUP BY Work_Type ORDER BY qtd DESC').show()"
   ]
  },
  {
   "cell_type": "markdown",
   "id": "1bedc2b9-94eb-43b3-b8f1-4d8643281c52",
   "metadata": {},
   "source": [
    "#### 5) Escreva uma consulta com spark.sql para determinar a proporção, por gênero, de participantes do estudo. A maioria dos participantes é:"
   ]
  },
  {
   "cell_type": "code",
   "execution_count": 11,
   "id": "fda56706-a7ce-468e-b25f-0d8f36765144",
   "metadata": {},
   "outputs": [
    {
     "name": "stdout",
     "output_type": "stream",
     "text": [
      "+------+----------+\n",
      "|Gender|quantidade|\n",
      "+------+----------+\n",
      "|Female|     39530|\n",
      "|  Male|     27594|\n",
      "| Other|        11|\n",
      "+------+----------+\n",
      "\n"
     ]
    }
   ],
   "source": [
    "spark.sql('SELECT Gender, count(*) as quantidade FROM table GROUP BY Gender ORDER BY quantidade DESC').show()"
   ]
  },
  {
   "cell_type": "markdown",
   "id": "be2f8f78-5bc2-4472-9d47-4f5a63d98594",
   "metadata": {},
   "source": [
    "#### 6) Escreva uma consulta com spark.sql para determinar quem tem mais probabilidade de sofrer derrame: hipertensos ou não-hipertensos. Você pode escrever uma consulta para cada grupo. A partir das probabilidades que você obteve, você conclui que: "
   ]
  },
  {
   "cell_type": "code",
   "execution_count": 12,
   "id": "b41f3030-2c25-4678-bfe9-c482b22a769e",
   "metadata": {},
   "outputs": [
    {
     "name": "stdout",
     "output_type": "stream",
     "text": [
      "With Hypertension\n",
      "+------+----------+------------------+\n",
      "|Stroke|quantidade|        percentual|\n",
      "+------+----------+------------------+\n",
      "|     0|      2200|19.969138603975676|\n",
      "|     1|      8817| 80.03086139602432|\n",
      "+------+----------+------------------+\n",
      "\n",
      "Without Hypertension\n",
      "+------+----------+-----------------+\n",
      "|Stroke|quantidade|       percentual|\n",
      "+------+----------+-----------------+\n",
      "|     0|     24648|43.92173634128087|\n",
      "|     1|     31470|56.07826365871913|\n",
      "+------+----------+-----------------+\n",
      "\n"
     ]
    }
   ],
   "source": [
    "print('With Hypertension')\n",
    "spark.sql('SELECT Stroke, count(*) as quantidade, (count(*) /(SELECT count(*) FROM table WHERE Hypertension = 1) * 100) percentual FROM table WHERE Hypertension = 1 GROUP BY Stroke ORDER BY Stroke').show()\n",
    "\n",
    "print('Without Hypertension')\n",
    "spark.sql('SELECT Stroke, count(*) as quantidade, (count(*) /(SELECT count(*) FROM table WHERE Hypertension = 0) * 100) percentual FROM table Where Hypertension = 0 GROUP BY Stroke ORDER BY Stroke').show()"
   ]
  },
  {
   "cell_type": "markdown",
   "id": "80222426-3acc-46d8-8a30-f27b6d69e664",
   "metadata": {},
   "source": [
    "#### 7) Escreva uma consulta com spark.sql que determine o número de pessoas que sofreram derrame por idade. Com qual idade o maior número de pessoas do conjunto de dados sofreu derrame?"
   ]
  },
  {
   "cell_type": "code",
   "execution_count": 13,
   "id": "f038814d-58b4-425a-9637-6a0663fdd927",
   "metadata": {},
   "outputs": [
    {
     "name": "stdout",
     "output_type": "stream",
     "text": [
      "+----+----------+\n",
      "| Age|quantidade|\n",
      "+----+----------+\n",
      "|  79|      3258|\n",
      "|  78|      2672|\n",
      "|  80|      2141|\n",
      "|  81|      2005|\n",
      "|  82|      1657|\n",
      "|  63|      1294|\n",
      "|  66|      1195|\n",
      "|  77|      1190|\n",
      "|  74|      1184|\n",
      "|  57|      1160|\n",
      "|  70|      1151|\n",
      "|null|      1091|\n",
      "|  76|      1088|\n",
      "|  67|      1070|\n",
      "|  51|      1067|\n",
      "|  65|      1046|\n",
      "|  75|      1015|\n",
      "|  52|      1003|\n",
      "|  58|       999|\n",
      "|  59|       994|\n",
      "+----+----------+\n",
      "only showing top 20 rows\n",
      "\n"
     ]
    }
   ],
   "source": [
    "spark.sql('SELECT Age, count(*) as quantidade FROM table GROUP BY Age ORDER BY quantidade DESC').show()"
   ]
  },
  {
   "cell_type": "markdown",
   "id": "2e33c1f9-ab56-4869-b016-5bb744556828",
   "metadata": {},
   "source": [
    "#### 8) Usando a API de dataframes, determine quantas pessoas sofreram derrames após os 50 anos."
   ]
  },
  {
   "cell_type": "code",
   "execution_count": 14,
   "id": "430acf42-e8a2-4485-ab53-4af1a9578178",
   "metadata": {},
   "outputs": [
    {
     "data": {
      "text/plain": [
       "28938"
      ]
     },
     "execution_count": 14,
     "metadata": {},
     "output_type": "execute_result"
    }
   ],
   "source": [
    "df.filter('Age > 50 and Stroke == 1').count()"
   ]
  },
  {
   "cell_type": "markdown",
   "id": "8e1c51b0-24da-4ca4-99c4-42a56250516c",
   "metadata": {},
   "source": [
    "#### 9) Usando spark.sql, determine qual o nível médio de glicose para pessoas que, respectivamente, sofreram e não sofreram derrame."
   ]
  },
  {
   "cell_type": "code",
   "execution_count": 15,
   "id": "3892f90f-39a3-4469-84ac-f892356a15dc",
   "metadata": {},
   "outputs": [
    {
     "name": "stdout",
     "output_type": "stream",
     "text": [
      "+------+----------------------+\n",
      "|Stroke|avg(Avg_glucose_level)|\n",
      "+------+----------------------+\n",
      "|     1|    119.95307046938272|\n",
      "|     0|    103.60273130214506|\n",
      "+------+----------------------+\n",
      "\n"
     ]
    }
   ],
   "source": [
    "spark.sql('SELECT Stroke, avg(Avg_glucose_level) FROM table GROUP BY Stroke').show()"
   ]
  },
  {
   "cell_type": "markdown",
   "id": "fa7f208a-a302-47e4-9014-f9d4888a44f7",
   "metadata": {},
   "source": [
    "#### 10) Qual é o BMI (IMC = índice de massa corpórea) médio de quem sofreu e não sofreu derrame?"
   ]
  },
  {
   "cell_type": "code",
   "execution_count": 16,
   "id": "81cbd16a-b5b0-4a79-b963-3125b83c7a3e",
   "metadata": {},
   "outputs": [
    {
     "name": "stdout",
     "output_type": "stream",
     "text": [
      "+------+------------------+\n",
      "|Stroke|          avg(IMC)|\n",
      "+------+------------------+\n",
      "|     1|29.942490629729495|\n",
      "|     0|27.989678933253657|\n",
      "+------+------------------+\n",
      "\n",
      "+------+------------------+\n",
      "|stroke|          avg(IMC)|\n",
      "+------+------------------+\n",
      "|     1|29.942490629729495|\n",
      "|     0|27.989678933253657|\n",
      "+------+------------------+\n",
      "\n"
     ]
    }
   ],
   "source": [
    "spark.sql('SELECT Stroke, avg(IMC) FROM table GROUP BY Stroke').show()\n",
    "df.groupBy('stroke').avg('IMC').show()"
   ]
  },
  {
   "cell_type": "markdown",
   "id": "ae7732e4-b037-4a89-a77f-364ce07590b6",
   "metadata": {},
   "source": [
    "## MACHINE LEARNING"
   ]
  },
  {
   "cell_type": "markdown",
   "id": "1d307de0-1791-41eb-9df6-69fdc893d984",
   "metadata": {
    "tags": []
   },
   "source": [
    "#### 11) Crie um modelo de árvore de decisão que prevê a chance de derrame (stroke) a partir das variáveis contínuas/categóricas: idade, BMI, hipertensão, doença do coração, nível médio de glicose. Use o conteúdo da Segunda Aula Interativa para criar e avaliar o modelo. Qual a acurácia de um modelo construído?"
   ]
  },
  {
   "cell_type": "code",
   "execution_count": 17,
   "id": "53c62a3d-4ced-44b0-8cbc-dba25f729540",
   "metadata": {},
   "outputs": [
    {
     "name": "stdout",
     "output_type": "stream",
     "text": [
      "+---+-----+\n",
      "|Age|count|\n",
      "+---+-----+\n",
      "| 31|  592|\n",
      "| 65| 1046|\n",
      "| 53|  842|\n",
      "| 78| 2672|\n",
      "| 34|  587|\n",
      "| 81| 2005|\n",
      "| 28|  540|\n",
      "| 76| 1088|\n",
      "| 26|  503|\n",
      "| 27|  558|\n",
      "| 44|  671|\n",
      "| 12|  398|\n",
      "| 22|  503|\n",
      "| 47|  872|\n",
      "|  1|   34|\n",
      "| 52| 2094|\n",
      "| 13|  419|\n",
      "| 16|  426|\n",
      "|  6|  246|\n",
      "|  3|  402|\n",
      "+---+-----+\n",
      "only showing top 20 rows\n",
      "\n"
     ]
    }
   ],
   "source": [
    "mean_age = df.agg({'Age': 'mean'}).collect()[0][0]\n",
    "\n",
    "df = df.fillna(mean_age, subset=['Age'])\n",
    "\n",
    "df.groupBy('Age').count().show()"
   ]
  },
  {
   "cell_type": "code",
   "execution_count": 18,
   "id": "74fec6cd-acc3-47af-b4ab-f31113832136",
   "metadata": {},
   "outputs": [],
   "source": [
    "from pyspark.ml.feature import VectorAssembler\n",
    "\n",
    "assembler = VectorAssembler(inputCols=[\"Age\", \"IMC\", \"Hypertension\", \"Heart_disease\", \"Avg_glucose_level\"], outputCol = 'features')"
   ]
  },
  {
   "cell_type": "code",
   "execution_count": 19,
   "id": "958a3949-b265-4de2-88c7-75d2d3a247e0",
   "metadata": {},
   "outputs": [],
   "source": [
    "from pyspark.ml.classification import DecisionTreeClassifier\n",
    "decision_tree_classifier = DecisionTreeClassifier(labelCol = 'Stroke', featuresCol = 'features')"
   ]
  },
  {
   "cell_type": "code",
   "execution_count": 20,
   "id": "98fb37e6-732a-4f84-9ec2-a9ecac180478",
   "metadata": {},
   "outputs": [],
   "source": [
    "from pyspark.ml import Pipeline\n",
    "\n",
    "pipeline = Pipeline(stages=[assembler, decision_tree_classifier])"
   ]
  },
  {
   "cell_type": "code",
   "execution_count": 21,
   "id": "8fa01545-2ca0-4e58-a9b9-4dcdfab6b2a2",
   "metadata": {},
   "outputs": [],
   "source": [
    "train_data, test_data = df.randomSplit([0.7,0.3])"
   ]
  },
  {
   "cell_type": "code",
   "execution_count": 22,
   "id": "46938a0d-1260-405f-90fd-09bdc903b5e8",
   "metadata": {},
   "outputs": [],
   "source": [
    "pipelineModel = pipeline.fit(train_data)"
   ]
  },
  {
   "cell_type": "code",
   "execution_count": 24,
   "id": "71704313-a731-4fc0-9250-c39b81985bd4",
   "metadata": {},
   "outputs": [
    {
     "data": {
      "text/plain": [
       "0.6866683156072224"
      ]
     },
     "execution_count": 24,
     "metadata": {},
     "output_type": "execute_result"
    }
   ],
   "source": [
    "from pyspark.ml.evaluation import MulticlassClassificationEvaluator\n",
    "\n",
    "decision_tree_predictions = pipelineModel.transform(test_data)\n",
    "\n",
    "acc_evaluator = MulticlassClassificationEvaluator(labelCol = 'Stroke', predictionCol = 'prediction', metricName = 'accuracy')\n",
    "\n",
    "dtc_acc = acc_evaluator.evaluate(decision_tree_predictions)\n",
    "\n",
    "dtc_acc"
   ]
  }
 ],
 "metadata": {
  "kernelspec": {
   "display_name": "Python 3 (ipykernel)",
   "language": "python",
   "name": "python3"
  },
  "language_info": {
   "codemirror_mode": {
    "name": "ipython",
    "version": 3
   },
   "file_extension": ".py",
   "mimetype": "text/x-python",
   "name": "python",
   "nbconvert_exporter": "python",
   "pygments_lexer": "ipython3",
   "version": "3.9.7"
  }
 },
 "nbformat": 4,
 "nbformat_minor": 5
}
